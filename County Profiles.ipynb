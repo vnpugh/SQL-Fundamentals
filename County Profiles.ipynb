{
 "cells": [
  {
   "cell_type": "markdown",
   "source": "## Analyzing Country Profiles With SQL",
   "metadata": {
    "cell_id": "8ed0a807-db7b-40c8-bdd5-07c7bf63f1bf",
    "tags": [],
    "is_collapsed": false,
    "deepnote_cell_type": "text-cell-h2"
   }
  },
  {
   "cell_type": "markdown",
   "source": "### Introduction",
   "metadata": {
    "cell_id": "8ba389d7-5664-4bf1-9d7c-4a899b20091c",
    "tags": [],
    "is_collapsed": false,
    "deepnote_cell_type": "text-cell-h3"
   }
  },
  {
   "cell_type": "markdown",
   "source": "This project utilizes data from the CIA World Factbook, a compilation of statistics about the countries on earth. The goal of this project is to demonstrate how to analyze country profiles with basic SQL queries.",
   "metadata": {
    "cell_id": "94d205b8-827b-427e-b3ed-28e1542771f0",
    "tags": [],
    "is_collapsed": false,
    "deepnote_cell_type": "text-cell-p"
   }
  },
  {
   "cell_type": "markdown",
   "source": "### Project Overview",
   "metadata": {
    "cell_id": "96a23758-2529-4640-b6c7-b501bc63a5de",
    "tags": [],
    "is_collapsed": false,
    "deepnote_cell_type": "text-cell-h3"
   }
  },
  {
   "cell_type": "markdown",
   "source": "<p>The CIA World Factbook contains provides basic intelligence on the history, people, government, economy, energy, geography, environment, communications, transportation, military, terrorism, and transnational issues for 266 world entities. This project will focus on analyzing demographic and country profile information. SQL queries are used to pull the data from the 'Facts' table in the factbook.db database. Below, are descriptions for some of the columns in the table: </p>\n<ul>\n<li>Name - the name of the country.</li>\n<li>Area - the country's total area (both land and water).</li>\n<li>area_land - the country's land area in square kilometers.</li>\n<li>area_water - the country's water area in square kilometers.</li>\n<li>Population - the country's current population.</li>\n<li>population_growth - the country's population growth as a percentage.</li>\n<li>birth_rate - the number of births per year per 1,000 people.</li>\n<li>death_rate - the number of deaths per year per 1,000 people.</li>\n</ul>\n\n",
   "metadata": {
    "cell_id": "d509db17-7fd8-4723-ac0c-3a7cb69ba4c1",
    "tags": [],
    "deepnote_cell_type": "markdown"
   }
  },
  {
   "cell_type": "markdown",
   "source": "### Getting Started",
   "metadata": {
    "cell_id": "6147c826-8f9b-4bc6-869b-9ba5514e5c42",
    "tags": [],
    "is_collapsed": false,
    "deepnote_cell_type": "text-cell-h3"
   }
  },
  {
   "cell_type": "markdown",
   "source": "In this project, SQLite is used as the database management system (DBMS). The code below is used to connect Jupyter Notebook to the CIA factbook.db database:",
   "metadata": {
    "cell_id": "de903171-615f-4c9b-af01-4dcd54851ef7",
    "tags": [],
    "is_collapsed": false,
    "deepnote_cell_type": "text-cell-p"
   }
  },
  {
   "cell_type": "code",
   "metadata": {
    "collapsed": false,
    "cell_id": "27832fc7-2f66-420e-ac6c-b7d63f19cb08",
    "deepnote_output_heights": [
     21.1875
    ],
    "deepnote_cell_type": "code"
   },
   "source": "%%capture\n%load_ext sql\n%sql sqlite:///factbook.db",
   "execution_count": null,
   "outputs": [
    {
     "data": {
      "text/plain": "'Connected: None@factbook.db'"
     },
     "execution_count": 1,
     "metadata": {},
     "output_type": "execute_result"
    }
   ]
  },
  {
   "cell_type": "code",
   "metadata": {
    "collapsed": false,
    "cell_id": "00001-f3d66463-11c7-4b2e-95d8-8ff544e2ab36",
    "deepnote_output_heights": [
     null,
     89.890625
    ],
    "deepnote_cell_type": "code"
   },
   "source": "%%sql\nSELECT *\n  FROM sqlite_master\n WHERE type='table';",
   "execution_count": null,
   "outputs": [
    {
     "name": "stdout",
     "output_type": "stream",
     "text": "Done.\n"
    },
    {
     "data": {
      "text/html": "<table>\n    <tr>\n        <th>type</th>\n        <th>name</th>\n        <th>tbl_name</th>\n        <th>rootpage</th>\n        <th>sql</th>\n    </tr>\n    <tr>\n        <td>table</td>\n        <td>sqlite_sequence</td>\n        <td>sqlite_sequence</td>\n        <td>3</td>\n        <td>CREATE TABLE sqlite_sequence(name,seq)</td>\n    </tr>\n    <tr>\n        <td>table</td>\n        <td>facts</td>\n        <td>facts</td>\n        <td>47</td>\n        <td>CREATE TABLE &quot;facts&quot; (&quot;id&quot; INTEGER PRIMARY KEY AUTOINCREMENT NOT NULL, &quot;code&quot; varchar(255) NOT NULL, &quot;name&quot; varchar(255) NOT NULL, &quot;area&quot; integer, &quot;area_land&quot; integer, &quot;area_water&quot; integer, &quot;population&quot; integer, &quot;population_growth&quot; float, &quot;birth_rate&quot; float, &quot;death_rate&quot; float, &quot;migration_rate&quot; float)</td>\n    </tr>\n</table>",
      "text/plain": "[('table', 'sqlite_sequence', 'sqlite_sequence', 3, 'CREATE TABLE sqlite_sequence(name,seq)'),\n ('table', 'facts', 'facts', 47, 'CREATE TABLE \"facts\" (\"id\" INTEGER PRIMARY KEY AUTOINCREMENT NOT NULL, \"code\" varchar(255) NOT NULL, \"name\" varchar(255) NOT NULL, \"area\" integer, \"a ... (4 characters truncated) ... land\" integer, \"area_water\" integer, \"population\" integer, \"population_growth\" float, \"birth_rate\" float, \"death_rate\" float, \"migration_rate\" float)')]"
     },
     "execution_count": 3,
     "metadata": {},
     "output_type": "execute_result"
    }
   ]
  },
  {
   "cell_type": "markdown",
   "source": "Example: To test the connection, this query pulls the first five countries from the facts table:",
   "metadata": {
    "cell_id": "2922ff33-68ff-4053-846e-a8a655d0418a",
    "tags": [],
    "is_collapsed": false,
    "deepnote_cell_type": "text-cell-p"
   }
  },
  {
   "cell_type": "code",
   "metadata": {
    "collapsed": false,
    "cell_id": "00002-b450aeff-0e50-4305-9b2a-cd2fd4e9e5eb",
    "deepnote_output_heights": [
     null,
     176.796875
    ],
    "deepnote_cell_type": "code"
   },
   "source": "%%sql\nSELECT *\n  FROM facts\n    LIMIT 5;",
   "execution_count": null,
   "outputs": [
    {
     "name": "stdout",
     "output_type": "stream",
     "text": "Done.\n"
    },
    {
     "data": {
      "text/html": "<table>\n    <tr>\n        <th>id</th>\n        <th>code</th>\n        <th>name</th>\n        <th>area</th>\n        <th>area_land</th>\n        <th>area_water</th>\n        <th>population</th>\n        <th>population_growth</th>\n        <th>birth_rate</th>\n        <th>death_rate</th>\n        <th>migration_rate</th>\n    </tr>\n    <tr>\n        <td>1</td>\n        <td>af</td>\n        <td>Afghanistan</td>\n        <td>652230</td>\n        <td>652230</td>\n        <td>0</td>\n        <td>32564342</td>\n        <td>2.32</td>\n        <td>38.57</td>\n        <td>13.89</td>\n        <td>1.51</td>\n    </tr>\n    <tr>\n        <td>2</td>\n        <td>al</td>\n        <td>Albania</td>\n        <td>28748</td>\n        <td>27398</td>\n        <td>1350</td>\n        <td>3029278</td>\n        <td>0.3</td>\n        <td>12.92</td>\n        <td>6.58</td>\n        <td>3.3</td>\n    </tr>\n    <tr>\n        <td>3</td>\n        <td>ag</td>\n        <td>Algeria</td>\n        <td>2381741</td>\n        <td>2381741</td>\n        <td>0</td>\n        <td>39542166</td>\n        <td>1.84</td>\n        <td>23.67</td>\n        <td>4.31</td>\n        <td>0.92</td>\n    </tr>\n    <tr>\n        <td>4</td>\n        <td>an</td>\n        <td>Andorra</td>\n        <td>468</td>\n        <td>468</td>\n        <td>0</td>\n        <td>85580</td>\n        <td>0.12</td>\n        <td>8.13</td>\n        <td>6.96</td>\n        <td>0.0</td>\n    </tr>\n    <tr>\n        <td>5</td>\n        <td>ao</td>\n        <td>Angola</td>\n        <td>1246700</td>\n        <td>1246700</td>\n        <td>0</td>\n        <td>19625353</td>\n        <td>2.78</td>\n        <td>38.78</td>\n        <td>11.49</td>\n        <td>0.46</td>\n    </tr>\n</table>",
      "text/plain": "[(1, 'af', 'Afghanistan', 652230, 652230, 0, 32564342, 2.32, 38.57, 13.89, 1.51),\n (2, 'al', 'Albania', 28748, 27398, 1350, 3029278, 0.3, 12.92, 6.58, 3.3),\n (3, 'ag', 'Algeria', 2381741, 2381741, 0, 39542166, 1.84, 23.67, 4.31, 0.92),\n (4, 'an', 'Andorra', 468, 468, 0, 85580, 0.12, 8.13, 6.96, 0.0),\n (5, 'ao', 'Angola', 1246700, 1246700, 0, 19625353, 2.78, 38.78, 11.49, 0.46)]"
     },
     "execution_count": 4,
     "metadata": {},
     "output_type": "execute_result"
    }
   ]
  },
  {
   "cell_type": "markdown",
   "source": "<h2>Summary Statistics</h2>\n<p>To look for country outliers, summary statistics will need to be performed.</p>",
   "metadata": {
    "cell_id": "34e7b04d-1714-4187-8ba3-088ee8201680",
    "tags": [],
    "deepnote_cell_type": "markdown"
   }
  },
  {
   "cell_type": "markdown",
   "source": "\n<h3>Country Population & Growth</h3>\n",
   "metadata": {
    "cell_id": "bf7dc50d-56ba-498b-a705-e21f23950e03",
    "tags": [],
    "deepnote_cell_type": "markdown"
   }
  },
  {
   "cell_type": "markdown",
   "source": "<p>The single query written below returns the following:</p>\n<ul>\n<li>Minimum Population</li>\n<li>Maximum Population</li>\n<li>Minimum Population Growth</li>\n<li>Maximum Population Growth</li>\n</ul>\n<p>As a result, there's a country with a population of 0 and minimum population growth of 0. The table also includes a country with a population greater than 7256490011 (7.2 billion) and maximum population growth of 4.02.</p>",
   "metadata": {
    "cell_id": "3e3949a8-ff01-4d87-bf82-0cf55342d405",
    "tags": [],
    "deepnote_cell_type": "markdown"
   }
  },
  {
   "cell_type": "code",
   "metadata": {
    "collapsed": false,
    "cell_id": "00003-8cddff5f-67ae-4b9a-b8f4-08b039d31108",
    "deepnote_output_heights": [
     null,
     60.921875
    ],
    "deepnote_cell_type": "code"
   },
   "source": "%%sql\nSELECT MAX(population) AS max_pop, \n       MAX(population_growth) AS max_growth, \n       MIN(population) AS min_pop, \n       MIN(population_growth) AS min_pop_growth\n  FROM facts;",
   "execution_count": null,
   "outputs": [
    {
     "name": "stdout",
     "output_type": "stream",
     "text": "Done.\n"
    },
    {
     "data": {
      "text/html": "<table>\n    <tr>\n        <th>max_pop</th>\n        <th>max_growth</th>\n        <th>min_pop</th>\n        <th>min_pop_growth</th>\n    </tr>\n    <tr>\n        <td>7256490011</td>\n        <td>4.02</td>\n        <td>0</td>\n        <td>0.0</td>\n    </tr>\n</table>",
      "text/plain": "[(7256490011, 4.02, 0, 0.0)]"
     },
     "execution_count": 5,
     "metadata": {},
     "output_type": "execute_result"
    }
   ]
  },
  {
   "cell_type": "markdown",
   "source": "<p>Subqueries are used below to further investivate these two countries without using specific values. The query below returns the country with the minimum population, which is Antarctica. The data is consistent with the CIA Factbook as Antarctica <i>\"has no indigenous inhabitants, but there are both permanent and summer-only staffed research stations.\"</i></p>",
   "metadata": {
    "cell_id": "136f7f6e-525f-43e2-80b2-4cf802abf568",
    "tags": [],
    "deepnote_cell_type": "markdown"
   }
  },
  {
   "cell_type": "code",
   "metadata": {
    "collapsed": false,
    "cell_id": "00004-eaa8f414-8e69-4575-8503-da3fa3aaf3f7",
    "deepnote_output_heights": [
     null,
     60.921875
    ],
    "deepnote_cell_type": "code"
   },
   "source": "%%sql\nSELECT *\n  FROM facts\n WHERE population = (SELECT MIN(population)\n                              FROM facts)",
   "execution_count": null,
   "outputs": [
    {
     "name": "stdout",
     "output_type": "stream",
     "text": "Done.\n"
    },
    {
     "data": {
      "text/html": "<table>\n    <tr>\n        <th>id</th>\n        <th>code</th>\n        <th>name</th>\n        <th>area</th>\n        <th>area_land</th>\n        <th>area_water</th>\n        <th>population</th>\n        <th>population_growth</th>\n        <th>birth_rate</th>\n        <th>death_rate</th>\n        <th>migration_rate</th>\n    </tr>\n    <tr>\n        <td>250</td>\n        <td>ay</td>\n        <td>Antarctica</td>\n        <td>None</td>\n        <td>280000</td>\n        <td>None</td>\n        <td>0</td>\n        <td>None</td>\n        <td>None</td>\n        <td>None</td>\n        <td>None</td>\n    </tr>\n</table>",
      "text/plain": "[(250, 'ay', 'Antarctica', None, 280000, None, 0, None, None, None, None)]"
     },
     "execution_count": 6,
     "metadata": {},
     "output_type": "execute_result"
    }
   ]
  },
  {
   "cell_type": "markdown",
   "source": "<p>Next, the query below returns the country with the maximum population. It appears that the table contains a row for the whole world, which explains the population of over 7.2 billion.</p>",
   "metadata": {
    "cell_id": "5eb3f573-7a2e-4478-ba58-73112b672c89",
    "tags": [],
    "deepnote_cell_type": "markdown"
   }
  },
  {
   "cell_type": "code",
   "metadata": {
    "collapsed": false,
    "cell_id": "00005-fd7d45f9-7c08-4514-8de1-645f1b7da8b8",
    "deepnote_output_heights": [
     null,
     60.921875
    ],
    "deepnote_cell_type": "code"
   },
   "source": "%%sql\nSELECT *\n  FROM facts\n WHERE population = (SELECT MAX(population)\n                              FROM facts)",
   "execution_count": null,
   "outputs": [
    {
     "name": "stdout",
     "output_type": "stream",
     "text": "Done.\n"
    },
    {
     "data": {
      "text/html": "<table>\n    <tr>\n        <th>id</th>\n        <th>code</th>\n        <th>name</th>\n        <th>area</th>\n        <th>area_land</th>\n        <th>area_water</th>\n        <th>population</th>\n        <th>population_growth</th>\n        <th>birth_rate</th>\n        <th>death_rate</th>\n        <th>migration_rate</th>\n    </tr>\n    <tr>\n        <td>261</td>\n        <td>xx</td>\n        <td>World</td>\n        <td>None</td>\n        <td>None</td>\n        <td>None</td>\n        <td>7256490011</td>\n        <td>1.08</td>\n        <td>18.6</td>\n        <td>7.8</td>\n        <td>None</td>\n    </tr>\n</table>",
      "text/plain": "[(261, 'xx', 'World', None, None, None, 7256490011, 1.08, 18.6, 7.8, None)]"
     },
     "execution_count": 7,
     "metadata": {},
     "output_type": "execute_result"
    }
   ]
  },
  {
   "cell_type": "markdown",
   "source": "<p>Now that we know there's a row for the whole world, it's best practice to reccalculate the population summary statistics. The query below excludes the row for the whole world:</p>",
   "metadata": {
    "cell_id": "16e65257-aea0-4d11-bcd8-d3257274c10c",
    "tags": [],
    "deepnote_cell_type": "markdown"
   }
  },
  {
   "cell_type": "code",
   "metadata": {
    "collapsed": false,
    "cell_id": "00006-99f0fc84-5c1b-47e9-86ba-2cca95f6d3ee",
    "deepnote_output_heights": [
     null,
     60.921875
    ],
    "deepnote_cell_type": "code"
   },
   "source": "%%sql\nSELECT MAX(population) AS max_pop, \n       MAX(population_growth) AS max_growth, \n       MIN(population) AS min_pop, \n       MIN(population_growth) AS min_pop_growth\n  FROM facts\n WHERE name <> 'World'",
   "execution_count": null,
   "outputs": [
    {
     "name": "stdout",
     "output_type": "stream",
     "text": "Done.\n"
    },
    {
     "data": {
      "text/html": "<table>\n    <tr>\n        <th>max_pop</th>\n        <th>max_growth</th>\n        <th>min_pop</th>\n        <th>min_pop_growth</th>\n    </tr>\n    <tr>\n        <td>1367485388</td>\n        <td>4.02</td>\n        <td>0</td>\n        <td>0.0</td>\n    </tr>\n</table>",
      "text/plain": "[(1367485388, 4.02, 0, 0.0)]"
     },
     "execution_count": 8,
     "metadata": {},
     "output_type": "execute_result"
    }
   ]
  },
  {
   "cell_type": "markdown",
   "source": "### Average Population &amp; Area",
   "metadata": {
    "cell_id": "3e8e5b40-ad58-4b09-9364-9b9642c26517",
    "tags": [],
    "is_collapsed": false,
    "deepnote_cell_type": "text-cell-h3"
   }
  },
  {
   "cell_type": "markdown",
   "source": "<p>The query below calculates the average value for the population and area columns in the table, excluding the world row. The average population is around 32 million and the average area is 555 thousand square kilometers. </p>",
   "metadata": {
    "cell_id": "36ba2aa0-20f3-4d4f-bf5e-74caf75c6dc1",
    "tags": [],
    "deepnote_cell_type": "markdown"
   }
  },
  {
   "cell_type": "code",
   "metadata": {
    "collapsed": false,
    "cell_id": "00007-4e122593-e37d-4659-bfd6-25800343ff25",
    "deepnote_output_heights": [
     null,
     60.921875
    ],
    "deepnote_cell_type": "code"
   },
   "source": "%%sql\nSELECT ROUND(AVG(population), 2) AS avg_pop,\n       ROUND(AVG(area), 2) AS avg_area\n  FROM facts\n WHERE name <> 'World'",
   "execution_count": null,
   "outputs": [
    {
     "name": "stdout",
     "output_type": "stream",
     "text": "Done.\n"
    },
    {
     "data": {
      "text/html": "<table>\n    <tr>\n        <th>avg_pop</th>\n        <th>avg_area</th>\n    </tr>\n    <tr>\n        <td>32242666.57</td>\n        <td>555093.55</td>\n    </tr>\n</table>",
      "text/plain": "[(32242666.57, 555093.55)]"
     },
     "execution_count": 9,
     "metadata": {},
     "output_type": "execute_result"
    }
   ]
  },
  {
   "cell_type": "markdown",
   "source": "### Density",
   "metadata": {
    "cell_id": "7969f3c9-b526-4c39-b7b7-8b56d4ca507f",
    "tags": [],
    "is_collapsed": false,
    "deepnote_cell_type": "text-cell-h3"
   }
  },
  {
   "cell_type": "markdown",
   "source": "<p>Density depends on the population and the country's area. In the U.S., population density is expressed as the number of people per square mile of land area. The query below returns all countries that are densely populated, as well as meeting both of the following criteria:</p>\n<ul>\n<li>The population is above average.</li>\n<li>The area is below average.</li>\n</ul>\n<p>Therefore, the countries in this query are densly populated given their high population and low area.</p>",
   "metadata": {
    "cell_id": "2ace66ce-158f-42c0-af33-2dd0df7ef8dc",
    "tags": [],
    "deepnote_cell_type": "markdown"
   }
  },
  {
   "cell_type": "code",
   "metadata": {
    "collapsed": false,
    "cell_id": "00008-6082521e-b032-4cbc-9fbe-1475ce710bc5",
    "deepnote_output_heights": [
     null,
     437.515625
    ],
    "deepnote_cell_type": "code"
   },
   "source": "%%sql\nSELECT name, population, area\n  FROM facts\n WHERE population>(SELECT AVG(population)\n                    FROM facts\n                   WHERE name <> 'World') AND area<(SELECT AVG(area)\n                                                    FROM facts\n                                                    WHERE name <> 'World')",
   "execution_count": null,
   "outputs": [
    {
     "name": "stdout",
     "output_type": "stream",
     "text": "Done.\n"
    },
    {
     "data": {
      "text/html": "<table>\n    <tr>\n        <th>name</th>\n        <th>population</th>\n        <th>area</th>\n    </tr>\n    <tr>\n        <td>Bangladesh</td>\n        <td>168957745</td>\n        <td>148460</td>\n    </tr>\n    <tr>\n        <td>Germany</td>\n        <td>80854408</td>\n        <td>357022</td>\n    </tr>\n    <tr>\n        <td>Iraq</td>\n        <td>37056169</td>\n        <td>438317</td>\n    </tr>\n    <tr>\n        <td>Italy</td>\n        <td>61855120</td>\n        <td>301340</td>\n    </tr>\n    <tr>\n        <td>Japan</td>\n        <td>126919659</td>\n        <td>377915</td>\n    </tr>\n    <tr>\n        <td>Korea, South</td>\n        <td>49115196</td>\n        <td>99720</td>\n    </tr>\n    <tr>\n        <td>Morocco</td>\n        <td>33322699</td>\n        <td>446550</td>\n    </tr>\n    <tr>\n        <td>Philippines</td>\n        <td>100998376</td>\n        <td>300000</td>\n    </tr>\n    <tr>\n        <td>Poland</td>\n        <td>38562189</td>\n        <td>312685</td>\n    </tr>\n    <tr>\n        <td>Spain</td>\n        <td>48146134</td>\n        <td>505370</td>\n    </tr>\n    <tr>\n        <td>Thailand</td>\n        <td>67976405</td>\n        <td>513120</td>\n    </tr>\n    <tr>\n        <td>Uganda</td>\n        <td>37101745</td>\n        <td>241038</td>\n    </tr>\n    <tr>\n        <td>United Kingdom</td>\n        <td>64088222</td>\n        <td>243610</td>\n    </tr>\n    <tr>\n        <td>Vietnam</td>\n        <td>94348835</td>\n        <td>331210</td>\n    </tr>\n</table>",
      "text/plain": "[('Bangladesh', 168957745, 148460),\n ('Germany', 80854408, 357022),\n ('Iraq', 37056169, 438317),\n ('Italy', 61855120, 301340),\n ('Japan', 126919659, 377915),\n ('Korea, South', 49115196, 99720),\n ('Morocco', 33322699, 446550),\n ('Philippines', 100998376, 300000),\n ('Poland', 38562189, 312685),\n ('Spain', 48146134, 505370),\n ('Thailand', 67976405, 513120),\n ('Uganda', 37101745, 241038),\n ('United Kingdom', 64088222, 243610),\n ('Vietnam', 94348835, 331210)]"
     },
     "execution_count": 10,
     "metadata": {},
     "output_type": "execute_result"
    }
   ]
  },
  {
   "cell_type": "markdown",
   "source": "<p><strong>Population-to-Area Ratio:</strong> The previous query calculated countries that had higher-than-average populations with lower-than-average area. The formula for calculating population density is Dp= N/A. In this equation, Dp is the density of population, N is the total population as a number of people, and A is the land area covered by that population. Based on this equation, Bangladesh has a population-to-area ratio of 1,138 (168,957,745/148,460). If we remove the population and area criteria, we can see that there are 11 more countries with a much higher population-to-area ratio, with Macau being on top with a ratio of 21,168. The top three countries in this list (Macau, Monaco, and Singapore) are all incredibly small countries with dense populations, thus contributing to their high ratios.</p>",
   "metadata": {
    "cell_id": "cb2d4f5b-4e76-4932-b429-1e48902e364a",
    "tags": [],
    "deepnote_cell_type": "markdown"
   }
  },
  {
   "cell_type": "code",
   "metadata": {
    "collapsed": false,
    "cell_id": "00009-64c5c7bd-c82d-49da-8629-99891923b7e9",
    "deepnote_output_heights": [
     null,
     321.640625
    ],
    "deepnote_cell_type": "code"
   },
   "source": "%%sql\nSELECT name, population, area, ROUND(CAST(population AS float)/CAST(area AS float), 2) AS pop_area_ratio\n  FROM facts\n WHERE name <> 'World'\nORDER BY pop_area_ratio DESC\nLIMIT 10;",
   "execution_count": null,
   "outputs": [
    {
     "name": "stdout",
     "output_type": "stream",
     "text": "Done.\n"
    },
    {
     "data": {
      "text/html": "<table>\n    <tr>\n        <th>name</th>\n        <th>population</th>\n        <th>area</th>\n        <th>pop_area_ratio</th>\n    </tr>\n    <tr>\n        <td>Macau</td>\n        <td>592731</td>\n        <td>28</td>\n        <td>21168.96</td>\n    </tr>\n    <tr>\n        <td>Monaco</td>\n        <td>30535</td>\n        <td>2</td>\n        <td>15267.5</td>\n    </tr>\n    <tr>\n        <td>Singapore</td>\n        <td>5674472</td>\n        <td>697</td>\n        <td>8141.28</td>\n    </tr>\n    <tr>\n        <td>Hong Kong</td>\n        <td>7141106</td>\n        <td>1108</td>\n        <td>6445.04</td>\n    </tr>\n    <tr>\n        <td>Gaza Strip</td>\n        <td>1869055</td>\n        <td>360</td>\n        <td>5191.82</td>\n    </tr>\n    <tr>\n        <td>Gibraltar</td>\n        <td>29258</td>\n        <td>6</td>\n        <td>4876.33</td>\n    </tr>\n    <tr>\n        <td>Bahrain</td>\n        <td>1346613</td>\n        <td>760</td>\n        <td>1771.86</td>\n    </tr>\n    <tr>\n        <td>Maldives</td>\n        <td>393253</td>\n        <td>298</td>\n        <td>1319.64</td>\n    </tr>\n    <tr>\n        <td>Malta</td>\n        <td>413965</td>\n        <td>316</td>\n        <td>1310.02</td>\n    </tr>\n    <tr>\n        <td>Bermuda</td>\n        <td>70196</td>\n        <td>54</td>\n        <td>1299.93</td>\n    </tr>\n</table>",
      "text/plain": "[('Macau', 592731, 28, 21168.96),\n ('Monaco', 30535, 2, 15267.5),\n ('Singapore', 5674472, 697, 8141.28),\n ('Hong Kong', 7141106, 1108, 6445.04),\n ('Gaza Strip', 1869055, 360, 5191.82),\n ('Gibraltar', 29258, 6, 4876.33),\n ('Bahrain', 1346613, 760, 1771.86),\n ('Maldives', 393253, 298, 1319.64),\n ('Malta', 413965, 316, 1310.02),\n ('Bermuda', 70196, 54, 1299.93)]"
     },
     "execution_count": 11,
     "metadata": {},
     "output_type": "execute_result"
    }
   ]
  },
  {
   "cell_type": "markdown",
   "source": "<h3>Population Growth Next Year</h3>\n<p>Next, the query below returns the top 10 countries that will add the most people to their populations next year, excluding the world row. Therefore, India will add the most number of people to its population in the next year. To note, India does not have the highest population_growth amongst the top 10 countries. However, this growth is due to the country's large current population that puts India with the highest possibility to add the most number of people in the next year by about ~15.2 million people! That's more than twice the amount of the next highest country, China with an estimated population growth of ~6.2 million.</p>",
   "metadata": {
    "cell_id": "4af40a71-aa70-4591-8396-d56e688d0fd1",
    "tags": [],
    "deepnote_cell_type": "markdown"
   }
  },
  {
   "cell_type": "code",
   "metadata": {
    "collapsed": false,
    "cell_id": "00010-422d475a-fa22-4fd1-b34b-e16a45f066f1",
    "deepnote_output_heights": [
     null,
     321.640625
    ],
    "deepnote_cell_type": "code"
   },
   "source": "%%sql\nSELECT  name, population AS current_pop, population_growth, \n        ROUND(population*population_growth, 2) AS Population_growth_next_year \n  FROM facts\n WHERE name <> 'World'\nORDER BY Population_growth_next_year DESC\nLIMIT 10;",
   "execution_count": null,
   "outputs": [
    {
     "name": "stdout",
     "output_type": "stream",
     "text": "Done.\n"
    },
    {
     "data": {
      "text/html": "<table>\n    <tr>\n        <th>name</th>\n        <th>current_pop</th>\n        <th>population_growth</th>\n        <th>Population_growth_next_year</th>\n    </tr>\n    <tr>\n        <td>India</td>\n        <td>1251695584</td>\n        <td>1.22</td>\n        <td>1527068612.48</td>\n    </tr>\n    <tr>\n        <td>China</td>\n        <td>1367485388</td>\n        <td>0.45</td>\n        <td>615368424.6</td>\n    </tr>\n    <tr>\n        <td>Nigeria</td>\n        <td>181562056</td>\n        <td>2.45</td>\n        <td>444827037.2</td>\n    </tr>\n    <tr>\n        <td>Pakistan</td>\n        <td>199085847</td>\n        <td>1.46</td>\n        <td>290665336.62</td>\n    </tr>\n    <tr>\n        <td>Ethiopia</td>\n        <td>99465819</td>\n        <td>2.89</td>\n        <td>287456216.91</td>\n    </tr>\n    <tr>\n        <td>Bangladesh</td>\n        <td>168957745</td>\n        <td>1.6</td>\n        <td>270332392.0</td>\n    </tr>\n    <tr>\n        <td>United States</td>\n        <td>321368864</td>\n        <td>0.78</td>\n        <td>250667713.92</td>\n    </tr>\n    <tr>\n        <td>Indonesia</td>\n        <td>255993674</td>\n        <td>0.92</td>\n        <td>235514180.08</td>\n    </tr>\n    <tr>\n        <td>Congo, Democratic Republic of the</td>\n        <td>79375136</td>\n        <td>2.45</td>\n        <td>194469083.2</td>\n    </tr>\n    <tr>\n        <td>Philippines</td>\n        <td>100998376</td>\n        <td>1.61</td>\n        <td>162607385.36</td>\n    </tr>\n</table>",
      "text/plain": "[('India', 1251695584, 1.22, 1527068612.48),\n ('China', 1367485388, 0.45, 615368424.6),\n ('Nigeria', 181562056, 2.45, 444827037.2),\n ('Pakistan', 199085847, 1.46, 290665336.62),\n ('Ethiopia', 99465819, 2.89, 287456216.91),\n ('Bangladesh', 168957745, 1.6, 270332392.0),\n ('United States', 321368864, 0.78, 250667713.92),\n ('Indonesia', 255993674, 0.92, 235514180.08),\n ('Congo, Democratic Republic of the', 79375136, 2.45, 194469083.2),\n ('Philippines', 100998376, 1.61, 162607385.36)]"
     },
     "execution_count": 12,
     "metadata": {},
     "output_type": "execute_result"
    }
   ]
  },
  {
   "cell_type": "markdown",
   "source": "<h3>Water to Land Ratio</h3>\n<p>The query below returns those countries with the highest water to land ratios, excluding the world row. British Indian Ocean Territory has a high proportion of water in comparison to it's land. This territory is made of an archipelago of 58 islands covering some 640,000 sq km of ocean. Furthermore, the British Indian Ocean Territory and Virgin Islands are the only countries to have the area of water greater than land.</p>",
   "metadata": {
    "cell_id": "dec5b0a1-d7e5-4250-b44e-21664d907bd1",
    "tags": [],
    "deepnote_cell_type": "markdown"
   }
  },
  {
   "cell_type": "code",
   "metadata": {
    "collapsed": false,
    "cell_id": "00011-b168bcb5-5c87-4ed0-ad5a-9a25cc7a532e",
    "deepnote_output_heights": [
     null,
     321.640625
    ],
    "deepnote_cell_type": "code"
   },
   "source": "%%sql\nSELECT name, area_water, area_land,\n       ROUND(CAST(area_water AS Float)/CAST(area_land AS Float), 2) AS Water_land_ratio\n  FROM facts\n WHERE name <> 'World'\nORDER BY Water_land_ratio DESC\n LIMIT 10;",
   "execution_count": null,
   "outputs": [
    {
     "name": "stdout",
     "output_type": "stream",
     "text": "Done.\n"
    },
    {
     "data": {
      "text/html": "<table>\n    <tr>\n        <th>name</th>\n        <th>area_water</th>\n        <th>area_land</th>\n        <th>Water_land_ratio</th>\n    </tr>\n    <tr>\n        <td>British Indian Ocean Territory</td>\n        <td>54340</td>\n        <td>60</td>\n        <td>905.67</td>\n    </tr>\n    <tr>\n        <td>Virgin Islands</td>\n        <td>1564</td>\n        <td>346</td>\n        <td>4.52</td>\n    </tr>\n    <tr>\n        <td>Puerto Rico</td>\n        <td>4921</td>\n        <td>8870</td>\n        <td>0.55</td>\n    </tr>\n    <tr>\n        <td>Bahamas, The</td>\n        <td>3870</td>\n        <td>10010</td>\n        <td>0.39</td>\n    </tr>\n    <tr>\n        <td>Guinea-Bissau</td>\n        <td>8005</td>\n        <td>28120</td>\n        <td>0.28</td>\n    </tr>\n    <tr>\n        <td>Malawi</td>\n        <td>24404</td>\n        <td>94080</td>\n        <td>0.26</td>\n    </tr>\n    <tr>\n        <td>Netherlands</td>\n        <td>7650</td>\n        <td>33893</td>\n        <td>0.23</td>\n    </tr>\n    <tr>\n        <td>Uganda</td>\n        <td>43938</td>\n        <td>197100</td>\n        <td>0.22</td>\n    </tr>\n    <tr>\n        <td>Eritrea</td>\n        <td>16600</td>\n        <td>101000</td>\n        <td>0.16</td>\n    </tr>\n    <tr>\n        <td>Liberia</td>\n        <td>15049</td>\n        <td>96320</td>\n        <td>0.16</td>\n    </tr>\n</table>",
      "text/plain": "[('British Indian Ocean Territory', 54340, 60, 905.67),\n ('Virgin Islands', 1564, 346, 4.52),\n ('Puerto Rico', 4921, 8870, 0.55),\n ('Bahamas, The', 3870, 10010, 0.39),\n ('Guinea-Bissau', 8005, 28120, 0.28),\n ('Malawi', 24404, 94080, 0.26),\n ('Netherlands', 7650, 33893, 0.23),\n ('Uganda', 43938, 197100, 0.22),\n ('Eritrea', 16600, 101000, 0.16),\n ('Liberia', 15049, 96320, 0.16)]"
     },
     "execution_count": 13,
     "metadata": {},
     "output_type": "execute_result"
    }
   ]
  },
  {
   "cell_type": "markdown",
   "source": "<h3>Birth & Death Rates</h3>\n<p>The query below returns the top 10 countries that have a higher death rate than birth rate, in descending order. This is evident with the decline in population. </p>",
   "metadata": {
    "cell_id": "5dc6f288-3408-465c-b328-c190d677e69d",
    "tags": [],
    "deepnote_cell_type": "markdown"
   }
  },
  {
   "cell_type": "code",
   "metadata": {
    "collapsed": false,
    "cell_id": "00012-9cbc2219-6c57-48e7-b0f1-894fb1849e44",
    "deepnote_output_heights": [
     null,
     321.640625
    ],
    "deepnote_cell_type": "code"
   },
   "source": "%%sql\nSELECT name, death_rate, birth_rate\n  FROM facts\n WHERE death_rate>birth_rate\nORDER BY death_rate DESC\n LIMIT 10;",
   "execution_count": null,
   "outputs": [
    {
     "name": "stdout",
     "output_type": "stream",
     "text": "Done.\n"
    },
    {
     "data": {
      "text/html": "<table>\n    <tr>\n        <th>name</th>\n        <th>death_rate</th>\n        <th>birth_rate</th>\n    </tr>\n    <tr>\n        <td>Ukraine</td>\n        <td>14.46</td>\n        <td>10.72</td>\n    </tr>\n    <tr>\n        <td>Bulgaria</td>\n        <td>14.44</td>\n        <td>8.92</td>\n    </tr>\n    <tr>\n        <td>Latvia</td>\n        <td>14.31</td>\n        <td>10.0</td>\n    </tr>\n    <tr>\n        <td>Lithuania</td>\n        <td>14.27</td>\n        <td>10.1</td>\n    </tr>\n    <tr>\n        <td>Russia</td>\n        <td>13.69</td>\n        <td>11.6</td>\n    </tr>\n    <tr>\n        <td>Serbia</td>\n        <td>13.66</td>\n        <td>9.08</td>\n    </tr>\n    <tr>\n        <td>Belarus</td>\n        <td>13.36</td>\n        <td>10.7</td>\n    </tr>\n    <tr>\n        <td>Hungary</td>\n        <td>12.73</td>\n        <td>9.16</td>\n    </tr>\n    <tr>\n        <td>Moldova</td>\n        <td>12.59</td>\n        <td>12.0</td>\n    </tr>\n    <tr>\n        <td>Estonia</td>\n        <td>12.4</td>\n        <td>10.51</td>\n    </tr>\n</table>",
      "text/plain": "[('Ukraine', 14.46, 10.72),\n ('Bulgaria', 14.44, 8.92),\n ('Latvia', 14.31, 10.0),\n ('Lithuania', 14.27, 10.1),\n ('Russia', 13.69, 11.6),\n ('Serbia', 13.66, 9.08),\n ('Belarus', 13.36, 10.7),\n ('Hungary', 12.73, 9.16),\n ('Moldova', 12.59, 12.0),\n ('Estonia', 12.4, 10.51)]"
     },
     "execution_count": 14,
     "metadata": {},
     "output_type": "execute_result"
    }
   ]
  },
  {
   "cell_type": "markdown",
   "source": "<p>Next, the query below returns the country that has the most people, which is China at ~1.37 billion people.</p>",
   "metadata": {
    "cell_id": "8d17ec92-7598-48ff-89a6-cb055284cb88",
    "tags": [],
    "deepnote_cell_type": "markdown"
   }
  },
  {
   "cell_type": "code",
   "metadata": {
    "collapsed": false,
    "cell_id": "00013-e063f93b-284d-48b5-9238-23f73833eb5e",
    "deepnote_output_heights": [
     null,
     60.921875
    ],
    "deepnote_cell_type": "code"
   },
   "source": "%%sql\nSELECT *\n    FROM facts\n    WHERE population = (SELECT MAX(population)\n                           FROM facts\n                           WHERE id != 261)\n    AND id != 261;",
   "execution_count": null,
   "outputs": [
    {
     "name": "stdout",
     "output_type": "stream",
     "text": "Done.\n"
    },
    {
     "data": {
      "text/html": "<table>\n    <tr>\n        <th>id</th>\n        <th>code</th>\n        <th>name</th>\n        <th>area</th>\n        <th>area_land</th>\n        <th>area_water</th>\n        <th>population</th>\n        <th>population_growth</th>\n        <th>birth_rate</th>\n        <th>death_rate</th>\n        <th>migration_rate</th>\n    </tr>\n    <tr>\n        <td>37</td>\n        <td>ch</td>\n        <td>China</td>\n        <td>9596960</td>\n        <td>9326410</td>\n        <td>270550</td>\n        <td>1367485388</td>\n        <td>0.45</td>\n        <td>12.49</td>\n        <td>7.53</td>\n        <td>0.44</td>\n    </tr>\n</table>",
      "text/plain": "[(37, 'ch', 'China', 9596960, 9326410, 270550, 1367485388, 0.45, 12.49, 7.53, 0.44)]"
     },
     "execution_count": 15,
     "metadata": {},
     "output_type": "execute_result"
    }
   ]
  },
  {
   "cell_type": "markdown",
   "source": "<p>This query returns the country that has the highest growth rate. The results shows that South Sudan has the highest population growth at a rate of 4.02%. This is evident because the country's birth rate (36.91%) largely surpasses the country's death rate (8.18%)</p>",
   "metadata": {
    "cell_id": "f22d81c3-3864-4870-b2bc-ee4b8705e3d1",
    "tags": [],
    "deepnote_cell_type": "markdown"
   }
  },
  {
   "cell_type": "code",
   "metadata": {
    "collapsed": false,
    "cell_id": "00014-ee8912ea-8372-4a9a-b144-931340fe7964",
    "deepnote_output_heights": [
     null,
     60.921875
    ],
    "deepnote_cell_type": "code"
   },
   "source": "%%sql\nSELECT *\n    FROM facts\n    WHERE population_growth = (SELECT MAX(population_growth)\n                           FROM facts\n                           WHERE id != 261)\n    AND id != 261;",
   "execution_count": null,
   "outputs": [
    {
     "name": "stdout",
     "output_type": "stream",
     "text": "Done.\n"
    },
    {
     "data": {
      "text/html": "<table>\n    <tr>\n        <th>id</th>\n        <th>code</th>\n        <th>name</th>\n        <th>area</th>\n        <th>area_land</th>\n        <th>area_water</th>\n        <th>population</th>\n        <th>population_growth</th>\n        <th>birth_rate</th>\n        <th>death_rate</th>\n        <th>migration_rate</th>\n    </tr>\n    <tr>\n        <td>162</td>\n        <td>od</td>\n        <td>South Sudan</td>\n        <td>644329</td>\n        <td>None</td>\n        <td>None</td>\n        <td>12042910</td>\n        <td>4.02</td>\n        <td>36.91</td>\n        <td>8.18</td>\n        <td>11.47</td>\n    </tr>\n</table>",
      "text/plain": "[(162, 'od', 'South Sudan', 644329, None, None, 12042910, 4.02, 36.91, 8.18, 11.47)]"
     },
     "execution_count": 16,
     "metadata": {},
     "output_type": "execute_result"
    }
   ]
  },
  {
   "cell_type": "markdown",
   "source": "<p>Which country has the highest birth Rate? Well, we can see that Niger is the country with the highest birth rate. Also, the top 20 countries with the highest birth rates are all African countries.</p>",
   "metadata": {
    "cell_id": "d6cb8fb0-54c8-4f2a-8312-2f2c75230ac6",
    "tags": [],
    "deepnote_cell_type": "markdown"
   }
  },
  {
   "cell_type": "code",
   "metadata": {
    "collapsed": false,
    "cell_id": "00015-fdf936df-d536-456a-80e5-82f7d9857126",
    "deepnote_output_heights": [
     null,
     610.984375
    ],
    "deepnote_cell_type": "code"
   },
   "source": "%%sql\nSELECT name, birth_rate, population_growth\n    FROM facts\n    WHERE id != 261\n    ORDER BY birth_rate DESC\n    LIMIT 20;",
   "execution_count": null,
   "outputs": [
    {
     "name": "stdout",
     "output_type": "stream",
     "text": "Done.\n"
    },
    {
     "data": {
      "text/html": "<table>\n    <tr>\n        <th>name</th>\n        <th>birth_rate</th>\n        <th>population_growth</th>\n    </tr>\n    <tr>\n        <td>Niger</td>\n        <td>45.45</td>\n        <td>3.25</td>\n    </tr>\n    <tr>\n        <td>Mali</td>\n        <td>44.99</td>\n        <td>2.98</td>\n    </tr>\n    <tr>\n        <td>Uganda</td>\n        <td>43.79</td>\n        <td>3.24</td>\n    </tr>\n    <tr>\n        <td>Zambia</td>\n        <td>42.13</td>\n        <td>2.88</td>\n    </tr>\n    <tr>\n        <td>Burkina Faso</td>\n        <td>42.03</td>\n        <td>3.03</td>\n    </tr>\n    <tr>\n        <td>Burundi</td>\n        <td>42.01</td>\n        <td>3.28</td>\n    </tr>\n    <tr>\n        <td>Malawi</td>\n        <td>41.56</td>\n        <td>3.32</td>\n    </tr>\n    <tr>\n        <td>Somalia</td>\n        <td>40.45</td>\n        <td>1.83</td>\n    </tr>\n    <tr>\n        <td>Angola</td>\n        <td>38.78</td>\n        <td>2.78</td>\n    </tr>\n    <tr>\n        <td>Mozambique</td>\n        <td>38.58</td>\n        <td>2.45</td>\n    </tr>\n    <tr>\n        <td>Afghanistan</td>\n        <td>38.57</td>\n        <td>2.32</td>\n    </tr>\n    <tr>\n        <td>Nigeria</td>\n        <td>37.64</td>\n        <td>2.45</td>\n    </tr>\n    <tr>\n        <td>Ethiopia</td>\n        <td>37.27</td>\n        <td>2.89</td>\n    </tr>\n    <tr>\n        <td>Sierra Leone</td>\n        <td>37.03</td>\n        <td>2.35</td>\n    </tr>\n    <tr>\n        <td>South Sudan</td>\n        <td>36.91</td>\n        <td>4.02</td>\n    </tr>\n    <tr>\n        <td>Chad</td>\n        <td>36.6</td>\n        <td>1.89</td>\n    </tr>\n    <tr>\n        <td>Tanzania</td>\n        <td>36.39</td>\n        <td>2.79</td>\n    </tr>\n    <tr>\n        <td>Cameroon</td>\n        <td>36.17</td>\n        <td>2.59</td>\n    </tr>\n    <tr>\n        <td>Benin</td>\n        <td>36.02</td>\n        <td>2.78</td>\n    </tr>\n    <tr>\n        <td>Congo, Republic of the</td>\n        <td>35.85</td>\n        <td>2.0</td>\n    </tr>\n</table>",
      "text/plain": "[('Niger', 45.45, 3.25),\n ('Mali', 44.99, 2.98),\n ('Uganda', 43.79, 3.24),\n ('Zambia', 42.13, 2.88),\n ('Burkina Faso', 42.03, 3.03),\n ('Burundi', 42.01, 3.28),\n ('Malawi', 41.56, 3.32),\n ('Somalia', 40.45, 1.83),\n ('Angola', 38.78, 2.78),\n ('Mozambique', 38.58, 2.45),\n ('Afghanistan', 38.57, 2.32),\n ('Nigeria', 37.64, 2.45),\n ('Ethiopia', 37.27, 2.89),\n ('Sierra Leone', 37.03, 2.35),\n ('South Sudan', 36.91, 4.02),\n ('Chad', 36.6, 1.89),\n ('Tanzania', 36.39, 2.79),\n ('Cameroon', 36.17, 2.59),\n ('Benin', 36.02, 2.78),\n ('Congo, Republic of the', 35.85, 2.0)]"
     },
     "execution_count": 17,
     "metadata": {},
     "output_type": "execute_result"
    }
   ]
  },
  {
   "cell_type": "markdown",
   "source": "<p>In descending order, we can see that Ukraine has the highest death rate in the world, at 14.46% and a death/birth rate ratio of 1.35%. Additionally, Bulgaria has the second highest death rate at 14.44% and a death/birth rate ratio of 1.62%.</p>",
   "metadata": {
    "cell_id": "ac4f5b07-c6e9-489a-b317-1210245bad52",
    "tags": [],
    "deepnote_cell_type": "markdown"
   }
  },
  {
   "cell_type": "code",
   "metadata": {
    "collapsed": false,
    "cell_id": "00016-bd25ce00-8b2d-4862-a603-be4b39d24f88",
    "deepnote_output_heights": [
     null,
     610.984375
    ],
    "deepnote_cell_type": "code"
   },
   "source": "%%sql\nSELECT name, death_rate, birth_rate, ROUND(death_rate / birth_rate, 2) as death_birth_ratio\n    FROM facts\n    WHERE death_rate > birth_rate\n    ORDER BY death_rate DESC\n    LIMIT 20;",
   "execution_count": null,
   "outputs": [
    {
     "name": "stdout",
     "output_type": "stream",
     "text": "Done.\n"
    },
    {
     "data": {
      "text/html": "<table>\n    <tr>\n        <th>name</th>\n        <th>death_rate</th>\n        <th>birth_rate</th>\n        <th>death_birth_ratio</th>\n    </tr>\n    <tr>\n        <td>Ukraine</td>\n        <td>14.46</td>\n        <td>10.72</td>\n        <td>1.35</td>\n    </tr>\n    <tr>\n        <td>Bulgaria</td>\n        <td>14.44</td>\n        <td>8.92</td>\n        <td>1.62</td>\n    </tr>\n    <tr>\n        <td>Latvia</td>\n        <td>14.31</td>\n        <td>10.0</td>\n        <td>1.43</td>\n    </tr>\n    <tr>\n        <td>Lithuania</td>\n        <td>14.27</td>\n        <td>10.1</td>\n        <td>1.41</td>\n    </tr>\n    <tr>\n        <td>Russia</td>\n        <td>13.69</td>\n        <td>11.6</td>\n        <td>1.18</td>\n    </tr>\n    <tr>\n        <td>Serbia</td>\n        <td>13.66</td>\n        <td>9.08</td>\n        <td>1.5</td>\n    </tr>\n    <tr>\n        <td>Belarus</td>\n        <td>13.36</td>\n        <td>10.7</td>\n        <td>1.25</td>\n    </tr>\n    <tr>\n        <td>Hungary</td>\n        <td>12.73</td>\n        <td>9.16</td>\n        <td>1.39</td>\n    </tr>\n    <tr>\n        <td>Moldova</td>\n        <td>12.59</td>\n        <td>12.0</td>\n        <td>1.05</td>\n    </tr>\n    <tr>\n        <td>Estonia</td>\n        <td>12.4</td>\n        <td>10.51</td>\n        <td>1.18</td>\n    </tr>\n    <tr>\n        <td>Croatia</td>\n        <td>12.18</td>\n        <td>9.45</td>\n        <td>1.29</td>\n    </tr>\n    <tr>\n        <td>Romania</td>\n        <td>11.9</td>\n        <td>9.14</td>\n        <td>1.3</td>\n    </tr>\n    <tr>\n        <td>Germany</td>\n        <td>11.42</td>\n        <td>8.47</td>\n        <td>1.35</td>\n    </tr>\n    <tr>\n        <td>Slovenia</td>\n        <td>11.37</td>\n        <td>8.42</td>\n        <td>1.35</td>\n    </tr>\n    <tr>\n        <td>Greece</td>\n        <td>11.09</td>\n        <td>8.66</td>\n        <td>1.28</td>\n    </tr>\n    <tr>\n        <td>Portugal</td>\n        <td>11.02</td>\n        <td>9.27</td>\n        <td>1.19</td>\n    </tr>\n    <tr>\n        <td>Czech Republic</td>\n        <td>10.34</td>\n        <td>9.63</td>\n        <td>1.07</td>\n    </tr>\n    <tr>\n        <td>Italy</td>\n        <td>10.19</td>\n        <td>8.74</td>\n        <td>1.17</td>\n    </tr>\n    <tr>\n        <td>Poland</td>\n        <td>10.19</td>\n        <td>9.74</td>\n        <td>1.05</td>\n    </tr>\n    <tr>\n        <td>Bosnia and Herzegovina</td>\n        <td>9.75</td>\n        <td>8.87</td>\n        <td>1.1</td>\n    </tr>\n</table>",
      "text/plain": "[('Ukraine', 14.46, 10.72, 1.35),\n ('Bulgaria', 14.44, 8.92, 1.62),\n ('Latvia', 14.31, 10.0, 1.43),\n ('Lithuania', 14.27, 10.1, 1.41),\n ('Russia', 13.69, 11.6, 1.18),\n ('Serbia', 13.66, 9.08, 1.5),\n ('Belarus', 13.36, 10.7, 1.25),\n ('Hungary', 12.73, 9.16, 1.39),\n ('Moldova', 12.59, 12.0, 1.05),\n ('Estonia', 12.4, 10.51, 1.18),\n ('Croatia', 12.18, 9.45, 1.29),\n ('Romania', 11.9, 9.14, 1.3),\n ('Germany', 11.42, 8.47, 1.35),\n ('Slovenia', 11.37, 8.42, 1.35),\n ('Greece', 11.09, 8.66, 1.28),\n ('Portugal', 11.02, 9.27, 1.19),\n ('Czech Republic', 10.34, 9.63, 1.07),\n ('Italy', 10.19, 8.74, 1.17),\n ('Poland', 10.19, 9.74, 1.05),\n ('Bosnia and Herzegovina', 9.75, 8.87, 1.1)]"
     },
     "execution_count": 18,
     "metadata": {},
     "output_type": "execute_result"
    }
   ]
  },
  {
   "cell_type": "markdown",
   "source": "<p>Lastly, the query below returns the Population-to-Area Ratio for the top 20 countries in descending order. A previous query was ran for the top 10 countries, excluding the world row.</p>",
   "metadata": {
    "cell_id": "f484d801-8b03-45c3-be33-1e4f8705fbdc",
    "tags": [],
    "deepnote_cell_type": "markdown"
   }
  },
  {
   "cell_type": "code",
   "metadata": {
    "collapsed": false,
    "cell_id": "00017-16bedfc6-e383-432f-95a2-abcea61e2f0d",
    "deepnote_output_heights": [
     null,
     610.984375
    ],
    "deepnote_cell_type": "code"
   },
   "source": "%%sql\nSELECT name, population, area, ROUND(population/area, 2) as pop_area_ratio\n    FROM facts\n    ORDER BY pop_area_ratio DESC\n    LIMIT 20;",
   "execution_count": null,
   "outputs": [
    {
     "name": "stdout",
     "output_type": "stream",
     "text": "Done.\n"
    },
    {
     "data": {
      "text/html": "<table>\n    <tr>\n        <th>name</th>\n        <th>population</th>\n        <th>area</th>\n        <th>pop_area_ratio</th>\n    </tr>\n    <tr>\n        <td>Macau</td>\n        <td>592731</td>\n        <td>28</td>\n        <td>21168.0</td>\n    </tr>\n    <tr>\n        <td>Monaco</td>\n        <td>30535</td>\n        <td>2</td>\n        <td>15267.0</td>\n    </tr>\n    <tr>\n        <td>Singapore</td>\n        <td>5674472</td>\n        <td>697</td>\n        <td>8141.0</td>\n    </tr>\n    <tr>\n        <td>Hong Kong</td>\n        <td>7141106</td>\n        <td>1108</td>\n        <td>6445.0</td>\n    </tr>\n    <tr>\n        <td>Gaza Strip</td>\n        <td>1869055</td>\n        <td>360</td>\n        <td>5191.0</td>\n    </tr>\n    <tr>\n        <td>Gibraltar</td>\n        <td>29258</td>\n        <td>6</td>\n        <td>4876.0</td>\n    </tr>\n    <tr>\n        <td>Bahrain</td>\n        <td>1346613</td>\n        <td>760</td>\n        <td>1771.0</td>\n    </tr>\n    <tr>\n        <td>Maldives</td>\n        <td>393253</td>\n        <td>298</td>\n        <td>1319.0</td>\n    </tr>\n    <tr>\n        <td>Malta</td>\n        <td>413965</td>\n        <td>316</td>\n        <td>1310.0</td>\n    </tr>\n    <tr>\n        <td>Bermuda</td>\n        <td>70196</td>\n        <td>54</td>\n        <td>1299.0</td>\n    </tr>\n    <tr>\n        <td>Sint Maarten</td>\n        <td>39689</td>\n        <td>34</td>\n        <td>1167.0</td>\n    </tr>\n    <tr>\n        <td>Bangladesh</td>\n        <td>168957745</td>\n        <td>148460</td>\n        <td>1138.0</td>\n    </tr>\n    <tr>\n        <td>Guernsey</td>\n        <td>66080</td>\n        <td>78</td>\n        <td>847.0</td>\n    </tr>\n    <tr>\n        <td>Jersey</td>\n        <td>97294</td>\n        <td>116</td>\n        <td>838.0</td>\n    </tr>\n    <tr>\n        <td>Barbados</td>\n        <td>290604</td>\n        <td>430</td>\n        <td>675.0</td>\n    </tr>\n    <tr>\n        <td>Mauritius</td>\n        <td>1339827</td>\n        <td>2040</td>\n        <td>656.0</td>\n    </tr>\n    <tr>\n        <td>Taiwan</td>\n        <td>23415126</td>\n        <td>35980</td>\n        <td>650.0</td>\n    </tr>\n    <tr>\n        <td>Aruba</td>\n        <td>112162</td>\n        <td>180</td>\n        <td>623.0</td>\n    </tr>\n    <tr>\n        <td>Lebanon</td>\n        <td>6184701</td>\n        <td>10400</td>\n        <td>594.0</td>\n    </tr>\n    <tr>\n        <td>Saint Martin</td>\n        <td>31754</td>\n        <td>54</td>\n        <td>588.0</td>\n    </tr>\n</table>",
      "text/plain": "[('Macau', 592731, 28, 21168.0),\n ('Monaco', 30535, 2, 15267.0),\n ('Singapore', 5674472, 697, 8141.0),\n ('Hong Kong', 7141106, 1108, 6445.0),\n ('Gaza Strip', 1869055, 360, 5191.0),\n ('Gibraltar', 29258, 6, 4876.0),\n ('Bahrain', 1346613, 760, 1771.0),\n ('Maldives', 393253, 298, 1319.0),\n ('Malta', 413965, 316, 1310.0),\n ('Bermuda', 70196, 54, 1299.0),\n ('Sint Maarten', 39689, 34, 1167.0),\n ('Bangladesh', 168957745, 148460, 1138.0),\n ('Guernsey', 66080, 78, 847.0),\n ('Jersey', 97294, 116, 838.0),\n ('Barbados', 290604, 430, 675.0),\n ('Mauritius', 1339827, 2040, 656.0),\n ('Taiwan', 23415126, 35980, 650.0),\n ('Aruba', 112162, 180, 623.0),\n ('Lebanon', 6184701, 10400, 594.0),\n ('Saint Martin', 31754, 54, 588.0)]"
     },
     "execution_count": 19,
     "metadata": {},
     "output_type": "execute_result"
    }
   ]
  },
  {
   "cell_type": "code",
   "metadata": {
    "collapsed": true,
    "cell_id": "00018-0e86acc7-6ba2-4f85-8dd4-1d152e82980e",
    "deepnote_cell_type": "code"
   },
   "source": "",
   "execution_count": null,
   "outputs": []
  },
  {
   "cell_type": "markdown",
   "source": "<a style='text-decoration:none;line-height:16px;display:flex;color:#5B5B62;padding:10px;justify-content:end;' href='https://deepnote.com?utm_source=created-in-deepnote-cell&projectId=376dca8b-085a-40ab-8346-99bd0448301c' target=\"_blank\">\n<img alt='Created in deepnote.com' style='display:inline;max-height:16px;margin:0px;margin-right:7.5px;' src='data:image/svg+xml;base64,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' > </img>\nCreated in <span style='font-weight:600;margin-left:4px;'>Deepnote</span></a>",
   "metadata": {
    "tags": [],
    "created_in_deepnote_cell": true,
    "deepnote_cell_type": "markdown"
   }
  }
 ],
 "nbformat": 4,
 "nbformat_minor": 2,
 "metadata": {
  "kernelspec": {
   "display_name": "Python 3",
   "language": "python",
   "name": "python3"
  },
  "language_info": {
   "codemirror_mode": {
    "name": "ipython",
    "version": 3
   },
   "file_extension": ".py",
   "mimetype": "text/x-python",
   "name": "python",
   "nbconvert_exporter": "python",
   "pygments_lexer": "ipython3",
   "version": "3.4.3"
  },
  "deepnote_notebook_id": "967edc01-182e-4af3-b5f0-c22e63e9db52",
  "deepnote": {},
  "deepnote_execution_queue": []
 }
}